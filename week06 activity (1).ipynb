{
 "cells": [
  {
   "cell_type": "code",
   "execution_count": 1,
   "id": "910924c2",
   "metadata": {},
   "outputs": [],
   "source": [
    "import pandas as pd\n",
    "import numpy as np\n",
    "import statistics \n",
    "import matplotlib.pyplot as plt"
   ]
  },
  {
   "cell_type": "code",
   "execution_count": 2,
   "id": "a67e6bbe",
   "metadata": {
    "scrolled": true
   },
   "outputs": [
    {
     "data": {
      "text/html": [
       "<div>\n",
       "<style scoped>\n",
       "    .dataframe tbody tr th:only-of-type {\n",
       "        vertical-align: middle;\n",
       "    }\n",
       "\n",
       "    .dataframe tbody tr th {\n",
       "        vertical-align: top;\n",
       "    }\n",
       "\n",
       "    .dataframe thead th {\n",
       "        text-align: right;\n",
       "    }\n",
       "</style>\n",
       "<table border=\"1\" class=\"dataframe\">\n",
       "  <thead>\n",
       "    <tr style=\"text-align: right;\">\n",
       "      <th></th>\n",
       "      <th>country</th>\n",
       "      <th>Region</th>\n",
       "      <th>Surface area (km2)</th>\n",
       "      <th>Population in thousands (2017)</th>\n",
       "      <th>GDP per capita (current US$)</th>\n",
       "      <th>Agricultural production index</th>\n",
       "      <th>International trade: Imports (million US$)</th>\n",
       "    </tr>\n",
       "  </thead>\n",
       "  <tbody>\n",
       "    <tr>\n",
       "      <th>0</th>\n",
       "      <td>Afghanistan</td>\n",
       "      <td>SouthernAsia</td>\n",
       "      <td>652864.0</td>\n",
       "      <td>35530.0</td>\n",
       "      <td>623.2</td>\n",
       "      <td>125.0</td>\n",
       "      <td>3568.0</td>\n",
       "    </tr>\n",
       "    <tr>\n",
       "      <th>1</th>\n",
       "      <td>Albania</td>\n",
       "      <td>SouthernEurope</td>\n",
       "      <td>28748.0</td>\n",
       "      <td>2930.0</td>\n",
       "      <td>3984.2</td>\n",
       "      <td>134.0</td>\n",
       "      <td>4669.0</td>\n",
       "    </tr>\n",
       "    <tr>\n",
       "      <th>2</th>\n",
       "      <td>Algeria</td>\n",
       "      <td>NorthernAfrica</td>\n",
       "      <td>2381741.0</td>\n",
       "      <td>41318.0</td>\n",
       "      <td>4154.1</td>\n",
       "      <td>160.0</td>\n",
       "      <td>47091.0</td>\n",
       "    </tr>\n",
       "    <tr>\n",
       "      <th>3</th>\n",
       "      <td>Angola</td>\n",
       "      <td>MiddleAfrica</td>\n",
       "      <td>1246700.0</td>\n",
       "      <td>29784.0</td>\n",
       "      <td>4714.1</td>\n",
       "      <td>175.0</td>\n",
       "      <td>8790.0</td>\n",
       "    </tr>\n",
       "    <tr>\n",
       "      <th>4</th>\n",
       "      <td>Antigua and Barbuda</td>\n",
       "      <td>Caribbean</td>\n",
       "      <td>442.0</td>\n",
       "      <td>102.0</td>\n",
       "      <td>14764.5</td>\n",
       "      <td>88.0</td>\n",
       "      <td>491.0</td>\n",
       "    </tr>\n",
       "  </tbody>\n",
       "</table>\n",
       "</div>"
      ],
      "text/plain": [
       "               country          Region  Surface area (km2)  \\\n",
       "0          Afghanistan    SouthernAsia            652864.0   \n",
       "1              Albania  SouthernEurope             28748.0   \n",
       "2              Algeria  NorthernAfrica           2381741.0   \n",
       "3               Angola    MiddleAfrica           1246700.0   \n",
       "4  Antigua and Barbuda       Caribbean               442.0   \n",
       "\n",
       "   Population in thousands (2017)  GDP per capita (current US$)  \\\n",
       "0                         35530.0                         623.2   \n",
       "1                          2930.0                        3984.2   \n",
       "2                         41318.0                        4154.1   \n",
       "3                         29784.0                        4714.1   \n",
       "4                           102.0                       14764.5   \n",
       "\n",
       "   Agricultural production index   International trade: Imports (million US$)  \n",
       "0                           125.0                                      3568.0  \n",
       "1                           134.0                                      4669.0  \n",
       "2                           160.0                                     47091.0  \n",
       "3                           175.0                                      8790.0  \n",
       "4                            88.0                                       491.0  "
      ]
     },
     "execution_count": 2,
     "metadata": {},
     "output_type": "execute_result"
    }
   ],
   "source": [
    "df=pd.read_excel('Dataset_w6.xlsx')\n",
    "df.head()"
   ]
  },
  {
   "cell_type": "code",
   "execution_count": 3,
   "id": "056a245f",
   "metadata": {
    "scrolled": true
   },
   "outputs": [
    {
     "data": {
      "text/plain": [
       "country                                       0\n",
       "Region                                        0\n",
       "Surface area (km2)                            0\n",
       "Population in thousands (2017)                0\n",
       "GDP per capita (current US$)                  0\n",
       "Agricultural production index                 0\n",
       "International trade: Imports (million US$)    0\n",
       "dtype: int64"
      ]
     },
     "execution_count": 3,
     "metadata": {},
     "output_type": "execute_result"
    }
   ],
   "source": [
    "df.isna().sum()"
   ]
  },
  {
   "cell_type": "markdown",
   "id": "c82f9256",
   "metadata": {},
   "source": [
    "# 1.Find out how many countries are there in the dataset."
   ]
  },
  {
   "cell_type": "code",
   "execution_count": 4,
   "id": "bab161f7",
   "metadata": {},
   "outputs": [
    {
     "data": {
      "text/plain": [
       "196"
      ]
     },
     "execution_count": 4,
     "metadata": {},
     "output_type": "execute_result"
    }
   ],
   "source": [
    "df.value_counts('country').sum()"
   ]
  },
  {
   "cell_type": "markdown",
   "id": "d5bdbf60",
   "metadata": {},
   "source": [
    "# 2.Find out how many countries with respect to the region are available in the dataset"
   ]
  },
  {
   "cell_type": "code",
   "execution_count": 5,
   "id": "4b44cb34",
   "metadata": {
    "scrolled": true
   },
   "outputs": [
    {
     "data": {
      "text/plain": [
       "Region         country               \n",
       "Caribbean      Antigua and Barbuda       1\n",
       "               Bahamas                   1\n",
       "               Barbados                  1\n",
       "               British Virgin Islands    1\n",
       "               Cayman Islands            1\n",
       "                                        ..\n",
       "WesternEurope  France                    1\n",
       "               Germany                   1\n",
       "               Luxembourg                1\n",
       "               Netherlands               1\n",
       "               Switzerland               1\n",
       "Length: 196, dtype: int64"
      ]
     },
     "execution_count": 5,
     "metadata": {},
     "output_type": "execute_result"
    }
   ],
   "source": [
    "df.groupby(['Region','country']).size()"
   ]
  },
  {
   "cell_type": "code",
   "execution_count": 6,
   "id": "55a90428",
   "metadata": {
    "scrolled": true
   },
   "outputs": [
    {
     "data": {
      "text/plain": [
       "WesternAsia          18\n",
       "EasternAfrica        17\n",
       "Caribbean            16\n",
       "WesternAfrica        15\n",
       "SouthAmerica         12\n",
       "SouthernEurope       12\n",
       "South-easternAsia    11\n",
       "EasternEurope        10\n",
       "NorthernEurope       10\n",
       "SouthernAsia          9\n",
       "MiddleAfrica          9\n",
       "CentralAmerica        8\n",
       "WesternEurope         7\n",
       "EasternAsia           7\n",
       "SouthernAfrica        5\n",
       "Polynesia             5\n",
       "NorthernAfrica        5\n",
       "Melanesia             5\n",
       "CentralAsia           5\n",
       "NorthernAmerica       4\n",
       "Micronesia            4\n",
       "Oceania               2\n",
       "Name: Region, dtype: int64"
      ]
     },
     "execution_count": 6,
     "metadata": {},
     "output_type": "execute_result"
    }
   ],
   "source": [
    "df['Region'].value_counts()"
   ]
  },
  {
   "cell_type": "markdown",
   "id": "40d257ee",
   "metadata": {},
   "source": [
    "# 3. On average which region has the highest\n",
    "   # a. GDP per capita (current US) b. International trade: Imports (million US$)"
   ]
  },
  {
   "cell_type": "code",
   "execution_count": 7,
   "id": "13fd98f8",
   "metadata": {},
   "outputs": [
    {
     "data": {
      "text/plain": [
       "Region\n",
       "NorthernAmerica    663552.250000\n",
       "EasternAsia        451995.000000\n",
       "WesternEurope      407498.428571\n",
       "NorthernEurope     113407.200000\n",
       "Oceania            112914.500000\n",
       "Name: International trade: Imports (million US$), dtype: float64"
      ]
     },
     "execution_count": 7,
     "metadata": {},
     "output_type": "execute_result"
    }
   ],
   "source": [
    "df1=df.groupby('Region')['International trade: Imports (million US$)'].mean().nlargest()\n",
    "df1"
   ]
  },
  {
   "cell_type": "code",
   "execution_count": 8,
   "id": "bba7e16d",
   "metadata": {},
   "outputs": [
    {
     "data": {
      "image/png": "[encoded data removed]",
      "text/plain": [
       "<Figure size 432x288 with 1 Axes>"
      ]
     },
     "metadata": {
      "needs_background": "light"
     },
     "output_type": "display_data"
    }
   ],
   "source": [
    "df1.plot(kind='bar')\n",
    "plt.title('Regionwise mean of International trade: Imports ')\n",
    "plt.show()"
   ]
  },
  {
   "cell_type": "code",
   "execution_count": 9,
   "id": "ffc86499",
   "metadata": {},
   "outputs": [
    {
     "data": {
      "text/plain": [
       "Region\n",
       "NorthernAmerica    57659.000000\n",
       "WesternEurope      55387.128571\n",
       "Oceania            44823.250000\n",
       "NorthernEurope     42098.220000\n",
       "EasternAsia        27967.614286\n",
       "Name: GDP per capita (current US$), dtype: float64"
      ]
     },
     "execution_count": 9,
     "metadata": {},
     "output_type": "execute_result"
    }
   ],
   "source": [
    "df2=df.groupby('Region')['GDP per capita (current US$)'].mean().nlargest()\n",
    "df2"
   ]
  },
  {
   "cell_type": "code",
   "execution_count": 10,
   "id": "243947e7",
   "metadata": {},
   "outputs": [
    {
     "data": {
      "image/png": "[encoded data removed]",
      "text/plain": [
       "<Figure size 432x288 with 1 Axes>"
      ]
     },
     "metadata": {
      "needs_background": "light"
     },
     "output_type": "display_data"
    }
   ],
   "source": [
    "df2.plot(kind='bar')\n",
    "plt.title('Regionwise mean of GDP')\n",
    "plt.show()"
   ]
  },
  {
   "cell_type": "markdown",
   "id": "e259a476",
   "metadata": {},
   "source": [
    "It is seen that the region with highest average for GDP and International trade is Northern America."
   ]
  },
  {
   "cell_type": "markdown",
   "id": "2cc21ae6",
   "metadata": {},
   "source": [
    "# 4. Find out which region has more consistent with respect to GDP per capita (current US$)"
   ]
  },
  {
   "cell_type": "code",
   "execution_count": 11,
   "id": "817f70e2",
   "metadata": {
    "scrolled": false
   },
   "outputs": [
    {
     "data": {
      "text/plain": [
       "Region\n",
       "WesternAfrica     6.643805e+05\n",
       "NorthernAfrica    9.500529e+05\n",
       "SouthernAfrica    4.741729e+06\n",
       "SouthernAsia      8.155069e+06\n",
       "EasternAfrica     1.380964e+07\n",
       "Name: GDP per capita (current US$), dtype: float64"
      ]
     },
     "execution_count": 11,
     "metadata": {},
     "output_type": "execute_result"
    }
   ],
   "source": [
    "df.groupby('Region')['GDP per capita (current US$)'].var().nsmallest()"
   ]
  },
  {
   "cell_type": "code",
   "execution_count": 12,
   "id": "9e461287",
   "metadata": {},
   "outputs": [
    {
     "data": {
      "text/plain": [
       "Region\n",
       "WesternAfrica          815.095399\n",
       "NorthernAfrica         974.706575\n",
       "SouthernAfrica        2177.551120\n",
       "SouthernAsia          2855.708179\n",
       "EasternAfrica         3716.131770\n",
       "CentralAsia           4152.215490\n",
       "CentralAmerica        4180.440883\n",
       "SouthAmerica          4273.707394\n",
       "Micronesia            4820.669694\n",
       "MiddleAfrica          5274.846281\n",
       "EasternEurope         5415.488739\n",
       "Polynesia             6956.250286\n",
       "Oceania               9233.329638\n",
       "SouthernEurope        9541.703216\n",
       "Melanesia            13855.842686\n",
       "Caribbean            14579.371326\n",
       "South-easternAsia    16311.810656\n",
       "WesternAsia          18812.151459\n",
       "NorthernEurope       20671.030185\n",
       "WesternEurope        24770.467728\n",
       "NorthernAmerica      25749.619445\n",
       "EasternAsia          27485.120923\n",
       "Name: GDP per capita (current US$), dtype: float64"
      ]
     },
     "execution_count": 12,
     "metadata": {},
     "output_type": "execute_result"
    }
   ],
   "source": [
    "df3=df.groupby('Region')['GDP per capita (current US$)'].std().sort_values()\n",
    "df3"
   ]
  },
  {
   "cell_type": "code",
   "execution_count": 13,
   "id": "6c5dff04",
   "metadata": {},
   "outputs": [
    {
     "data": {
      "image/png": "[encoded data removed]",
      "text/plain": [
       "<Figure size 432x288 with 1 Axes>"
      ]
     },
     "metadata": {
      "needs_background": "light"
     },
     "output_type": "display_data"
    }
   ],
   "source": [
    "df3.plot(kind='bar')\n",
    "plt.title('Regionwise standard deviation of GDP')\n",
    "plt.show()"
   ]
  },
  {
   "cell_type": "markdown",
   "id": "62e38332",
   "metadata": {},
   "source": [
    "The lesser the standard deviation the higher the consistency.\n",
    "Here region WesternAfrica has lowest standard deviation with respect to GDP per capita,so is more consistent. "
   ]
  },
  {
   "cell_type": "code",
   "execution_count": null,
   "id": "cb811b7c",
   "metadata": {},
   "outputs": [],
   "source": []
  }
 ],
 "metadata": {
  "kernelspec": {
   "display_name": "Python 3 (ipykernel)",
   "language": "python",
   "name": "python3"
  },
  "language_info": {
   "codemirror_mode": {
    "name": "ipython",
    "version": 3
   },
   "file_extension": ".py",
   "mimetype": "text/x-python",
   "name": "python",
   "nbconvert_exporter": "python",
   "pygments_lexer": "ipython3",
   "version": "3.9.12"
  }
 },
 "nbformat": 4,
 "nbformat_minor": 5
}
